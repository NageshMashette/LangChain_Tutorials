{
 "cells": [
  {
   "cell_type": "markdown",
   "metadata": {},
   "source": [
    "### Introduction\n",
    "\n",
    "In this notebook, you'll learn how to:\n",
    "- Chat with your second brain\n",
    "- Use LangChain's `ObsidianLoader`\n",
    "- Use LangChain's `VectorstoreIndexCreator`\n"
   ]
  },
  {
   "cell_type": "markdown",
   "metadata": {},
   "source": [
    "#### Installing packages\n",
    "Before we start, you need to have a few Python libraries installed. You can install these libraries by running the following command in your terminal:\n",
    "```bash\n",
    "pip install openai langchain python-dotenv chromadb tiktoken\n",
    "```"
   ]
  },
  {
   "cell_type": "markdown",
   "metadata": {},
   "source": [
    "### Loading API Keys"
   ]
  },
  {
   "cell_type": "code",
   "execution_count": 1,
   "metadata": {},
   "outputs": [
    {
     "data": {
      "text/plain": [
       "True"
      ]
     },
     "execution_count": 1,
     "metadata": {},
     "output_type": "execute_result"
    }
   ],
   "source": [
    "import os\n",
    "from dotenv import load_dotenv\n",
    "\n",
    "# load_dotenv()\n",
    "\n",
    "# Get the absolute path of the current script\n",
    "script_dir = os.path.abspath(os.getcwd())\n",
    "\n",
    "# Get the absolute path of the parent directory\n",
    "parent_dir = os.path.join(script_dir, os.pardir)\n",
    "\n",
    "dotenv_path = os.path.join(parent_dir, '.env')\n",
    "# Load the .env file from the parent directory\n",
    "load_dotenv(dotenv_path)"
   ]
  },
  {
   "cell_type": "markdown",
   "metadata": {},
   "source": [
    "### Loading Notes from Obsidian\n",
    "\n",
    "Just give it a path"
   ]
  },
  {
   "cell_type": "code",
   "execution_count": 2,
   "metadata": {},
   "outputs": [],
   "source": [
    "from langchain.document_loaders import ObsidianLoader\n",
    "\n",
    "loader = ObsidianLoader('/home/kris/Documents/SmartNotes/SecondBrain/Reference Notes/')\n",
    "docs = loader.load()"
   ]
  },
  {
   "cell_type": "code",
   "execution_count": 3,
   "metadata": {},
   "outputs": [
    {
     "data": {
      "text/plain": [
       "(35,\n",
       " [Document(page_content='# 📚Show Your Work\\nAuthor: [[Austin Kleon]]\\nCreated: 2022-01-14 12:49\\nStatus: #book\\nTags: #contentCreation #creativity \\n\\n\\n\\n# Most important Lessons\\n\\n### *Creating content has many benefits.*\\n### *Don\\'t overcomplicate sharing.*\\n### *Lesson3*\\n\\n# Chapter 1: You Don\\'t Have to Be a Genius (p 6)\\n\\n## Find A Scenius\\nHenry Wadsworth Longfellow\\n\"Give what you have. To someone, it may be better than you dare to think.\"\\n\\n\\n## Be An Amateur\\n\\nAmateurs are not afraid to make mistakes or look ridiculous i public. They\\'re in love, so they don\\'t hesitate do to work that others think of as silly or just plain stupid.\\n\\n\"The stupidest possible creative act is still a creative act.\" [[Clay Shirky]] #quote \\n\\n\\n\"That\\'s all any of us are: amateurs. We don\\'t live long enough to be anything else.\" [[Charlie Chaplin]]\\n\\n\\n## You can\\'t find your voice if you don\\'t use it\\n\\n\"Find your voice, shout it from the rooftops, and keep doing it until the people that are looking for you find you.\" [[Dan Harmon]] #quote \\n\\n\\n## Read Obituaries\\n\\n\"Remembering that I\\'ll be dead soon is the most important tool I\\'ve ever encountered to help me make the big choices in life. Because almost everything - all external expectations, all pride, all fear of embarrassment or failure - these things just fall away in the face of death, leaving only what is truly important. Remembering that you are going to die is the best way I know to avoid the trap of thinking you have something to lose. You are already naked. \" [[Steve Jobs]] #quote\\n\\n\\n# Chapter 2: Think Process, Not Product (p 30)\\n\\n\\n# Chapter 3: Share Something Small Every Day (p 44)\\n\\n\\n# Chapter 4: Open Up Your Cabinet Of Curiosities (p 70)\\n\\n\\n# Chapter 5: Tell Good Stories (p 88)\\n\\n\\n# Chapter 6: Teach What You Know (p 110)\\n\\n\\n# Chapter 7: Don\\'t Turn Into Human Spam (p 120)\\n\\n\\n# Chapter 8: Learn To Take A Punch (p 146)\\n\\n\\n# Chapter 9: Sell Out (p 158)\\n\\n\\n# Chapter 10: Stick Around (p 180)\\n\\n...\\n\\n\\n\\n---\\n## References\\n1. ', metadata={'source': '📚 Show Your Work.md', 'path': '/home/kris/Documents/SmartNotes/SecondBrain/Reference Notes/📚 Show Your Work.md', 'created': 1663824811.8895204, 'last_modified': 1663824811.8895204, 'last_accessed': 1691477989.2080228}),\n",
       "  Document(page_content='# 📚 Storyworthy\\nAuthor: Matthew Dicks\\nCreated: 2023-02-06 09:21\\nStatus: #book\\nTags: \\nLink: \\n1-Page Summary: [[Storyworthy.pdf]]\\n\\n## Most important Lessons\\n\\n***Lesson1***\\n***Lesson2***\\n***Lesson3***\\n\\n\\n## Favorite Quotes\\n- \"All great stories tell the story of a five-second moment in a person\\'s life.\" *Note* It is the moment when he becomes someone else. He\\'s life is never gonna be the same. E.g. fall in love, start a side hustle.\\n- \"You must start your story as one version of yourself and end as something new...\"\\n\\t- \"I was once X, but now I\\'m opposite-X.\"\\n\\t- \"I once thought Y, but now I think opposite-Y.\"\\n\\t- \"I once felt Z, but now I feel opposite-Z.\"\\n- \"Telling stories about your life lets people know they\\'re not alone.\"\\n\\n![[Storyworthy 3 Techniques.png]]\\nSource: [Productivity Game Video](https://www.youtube.com/watch?v=rjOMCrbFVGM&ab_channel=ProductivityGame)\\n\\n### 3 Compelling Storytelling Techniques\\n**Start with Action**\\nDon\\'t prepare the story. Start in the middle of action\\n- \"Yesterday I was running from...\"\\n- \"Last week I was in the middle of the meeting when...\"\\n\\n**Misdirect**\\n- Share your plan and than derail it (wykoleić)\\n- State an assumption and then falsify it\\n\\t- \"Now I could finally relax...\" And immediately include a stressful event\\n- Hint and upcoming event and then reveal something unexpected. Every time your audience expects one thing and you deliver something different, you\\'ve got their attention\\n\\t- \"I see my McDonald\\'s uniform in the backseat, and I suddenly have an idea...\" You want people to try guessing. But reveal so little information that they won\\'t guess. Or just finish with something surprising.\\n\\n**Pause before the Big Reveal**\\nDelay the end. Let people connect with you first\\n\\n![[Storyworthy Pause before end.png]]\\n\\n## Chapter 1:\\n...\\n\\n\\n---\\n## References\\n1. ', metadata={'source': '📚 Storyworthy.md', 'path': '/home/kris/Documents/SmartNotes/SecondBrain/Reference Notes/📚 Storyworthy.md', 'created': 1676010191.1223543, 'last_modified': 1675676215.4364994, 'last_accessed': 1691477989.2080228}),\n",
       "  Document(page_content='# 📚 The Subtle Art of Not Giving a F.ck\\nAuthor: [[Mark Manson]]\\nCreated: 2022-09-21 10:48\\nStatus: #book\\nTags: #fear \\n\\nGenius Link: [The Subtle Art Of Not Giving A F.ck](https://geni.us/xQKCP3j)\\n\\n#TODO add the part about taking actions as the way of dealing with problems.\\n\\n## Most important Lessons\\n\\n***Prioritize things in your life. Give all your f.cks about things that truly matter. Leave zero f.cks for the unimportant.***\\n\\n***Forget about life without problems. They never end. Create \\'good\\' problems that you enjoy dealing with.***\\n\\n***Face your fears. Take actions when you face terrifying and difficult challenges. People who believe in their values, don\\'t give a f.ck about fear, pain, pride, or ego.***\\n\\n***Our struggles determine our successes. We have to choose our pain. We can be great only at things we want to struggle for. In relationships - hard conversations. In career - failing over and over again.***\\n\\n## More takeaways\\n- One day **I\\'m going to die**.\\n- If you give a fuck about unimportant things, your life is missing a purpose (meaning). Find meaningful things to give a fuck about.\\n- Fuck that fear. Do things that scare you.\\n- You can\\'t help people without being a joke for others. No matter what you do, there are always gonna be people throwing shit at you. F.ck them!\\n- **Perfect life is an illusion**. Don\\'t try to create one. It may have terrible consequences. You will blame yourself for failing, when your life is not perfect.\\n- No matter how hard you try, you will experience failures, losses, or regrets.\\n- Problems without action -> suffering\\n- Problems with action (solving) -> happiness\\n- Happiness can\\'t exist without problems.\\n- **Greatness is an illusion**.\\n- When you accept all this limitations, you\\'ll take off a huge burden off your shoulders. (Is this sentence correct?)\\n- The only way to overcome pain is to first learn how to bear it.\\n- **Growth is an endlessly iterative process**. When we learn something new, we don\\'t go from \"wrong\" to \"right.\" Rather, we go from wrong to slightly less wrong.\\n- **\"The more something threatens your identity, the more you will avoid it\"** Manson\\'s Law\\n- Pain is necessary for growth. It applies to both physical and psychological pain. It\\'s required to develop stronger body (mind), resilience, and eventually a happier life. *Note*. **No pain, no growth.**\\n- **Good Values**: honesty, \\n\\t- reality-based\\n\\t- socially constructive\\n\\t- immediate and controllable\\n- **Bad (shitty) Values**:\\n\\t- superstitious\\n\\t- socially destructive\\n\\t- not immediate and controllable\\n\\n\\n## Favorite Quotes\\n- \"You can\\'t be an important and life-changing presence for some people without also being a joke and an embarrassment to others.\"\\n- \"No matter where you go, there\\'s a five-hundred-pound load of shit waiting for you. And that\\'s perfectly fine. The point isn\\'t to get away from the shit. The point is to find the shit you enjoy dealing with.\"\\n- To not give a fuck is to **stare down life\\'s most terrifying and difficult challenges and still take action**.\\n- \"I see practical enlightenment as becoming comfortable with the idea that some suffering is always inevitable - that **no matter what you do, life is comprised of failures, loss, regrets, and even death**.\"\\n- \"Greatness is merely an illusion in our minds, a made-up destination that we obligate ourselves to pursue.\"\\n- \"Don\\'t hope for a life without problems. There\\'s no such thing. Instead, hope for a life full of good problems.\" Disappointment Panda\\n- Who you are is defined by what you\\'re willing to struggle for.\\n- Our struggles determine our successes.\\n- **it\\'s growth that generates happiness**, not a long list of arbitrary achievements\\n- If someone is better than you at something, then it\\'s likely because she has failed at it more than you have.\\n- **We can be truly successful only at something we\\'re willing to fail at.** If we\\'re unwilling to fail, then we\\'re unwilling to succeed.\\n- **pain is part of the process**\\n\\n### Thoughts and potential content\\nIt took me 2 years to finally pick up this book. I knew it would be good, but it\\'s exceeded my expectations. \\n\\n\\n## Chapter 1: Don\\'t try\\n**My Summary**:\\n- Out consciousness enables us to have thoughts about our thoughts.\\n- Society, consumer culture, and social media has tricked us to thinking that it\\'s not OK to have negative thoughts like fear, anxiety, guilt. We believe we are the only ones. Everybody has problems and negative emotions, but we hide them. **You are not the only one with negative emotions**. But because you don\\'t see that in the Internet, you think there is something wrong with you.\\n- People who believe in their values don\\'t care about pride, pain, and ego. They know they do the right thing.\\n- No matter what you do, there is always going to be some shit waiting for you and thrown at you. Find the shit you like and want it close to you. **Find problems you enjoy dealing with**.\\n- \\n\\n**Highlights:**\\n- We humans have the luxury of being **able to have thoughts about our thoughts**.\\n- We joke online about \"first-world problems\" but we really **have become victims of our own success**.\\n- **The desire for more positive experience is itself a negative experience. And, paradoxically, the acceptance of one\\'s negative experience is itself a positive experience.**\\n- [[The Backwards Law]] by [[Alan Watts]] - the idea that the more you pursue feeling better all the time, the less satisfied you become, as **pursuing something only reinforces the fact that you lack it in the first place**.\\n- The core message of the book: What I\\'m talking about here is essentially learning how to focus and prioritize your thoughts effectively - how to pick and choose what matters to you and what does not matter to you based on finely honed personal values.\\n- Not giving a fuck does not mean being indifferent; it means **being comfortable with being different**.\\n- About indifferent people who are lame and scared, aka couch potatoes. They\\'re afraid to let anyone get close to them, so they imagine themselves as some special, unique snowflake who has problems that nobody else would ever understand.\\n- \"You can\\'t be an important and life-changing presence for some people without also being a joke and an embarrassment to others.\"\\n- \"No matter where you go, there\\'s a five-hundred-pound load of shit waiting for you. And that\\'s perfectly fine. The point isn\\'t to get away from the shit. The point is to **find the shit you enjoy dealing with**.\"\\n- \\n\\n\\n## Chapter 2: Happiness Is a Problem\\n**My summary**\\n- Disappointment Panda - a super hero. It\\'s superpower is to tell people harsh truths about themselves that they **needed to hear but didn\\'t want to accept**.\\n- Problems are inevitable. Everybody has problems.\\n- Problems without action -> suffering #action \\n- Problems solving (action) -> happiness\\n- Suffering comes from unsolved problems\\n- Happiness comes from solving problems\\n- Happiness is not passive. It can only come from action. It doesn\\'t magically appear.\\n\\n**Highlights**\\n- Life is a form of suffering.\\n- Happiness is not a solvable equation.\\n- \\n\\n#### The Misadventures of Disappointment Panda\\n**My Summary**\\n- **Pain is a great teacher**. It shows us the limitations.\\n- Our brain can\\'t really distinguish physical and emotional pain.\\n- No pain -> detachment from reality\\n\\n\\n**Highlights**\\n- The greatest truths in life are usually the most unpleasant to hear.\\n- Suffering is biologically useful\\n- Pain and misery are a feature\\n- we lose the benefits of experiencing healthy doses of pain, a loss that disconnects us from the reality of the world around us.\\n\\n#### Happiness Comes From Solving Problems\\n**Highlights**\\n- To be happy we need something to solve. Happiness is therefore a form of action; it\\'s an activity, not something that is passively bestowed (obdarować) upon you, not something that you magically discover in a top-ten article on the Huffington Post or from any specific guru or teacher. It doesn\\'t magically appear when you finally make enough money to add on that extra room to the house. You don\\'t find it waiting for you in a place, an idea, a job - or even a book, for that matter. Note: Reminded me [[Alex Hormozi Level 7 Observations]] - \"Money only solves money problems, then you are left with problems money can\\'t solve.\"\\n\\n#inprogress I didn\\'t even mention yet that all things we love also have problems - a dream house has to be repaired, a great relationship requires effort and good communication, etc.\\n\\n#### Emotions are overrated\\n**Highlights**\\n- [[Hedonic Adaptation]] The Idea that we\\'re always working hard to change our life situation, but we actually never feel very different.\\n- Everything comes with an inherent sacrifice - whatever makes us feel good will also inevitably make us feel bad. What we gain is also what we lose. What creates positive experiences will define our negative experiences.\\n\\n#### Choose Your Struggle\\n**My Summary**:\\n- I already read it twice, because it\\'s so important\\n- We all answer the question \"What do I want in life?\" the same way. We want to be happy, healthy, have a family and a job we love. But this answer doesn\\'t mean anything and makes us like everybody else.\\n- We should ask questions about struggles and pains. **What pain do I want in my life? What am I willing to struggle for? What is the pain that I want to sustain?**\\n- The above questions tell much more about ourselves. They indicate who we are. **We have to find out what we want to fight for, struggle for and what pain can we sustain.** Note: examples are in the highlights\\n- When we say what we want, **we think about the end results, not the process - the actual pain that gets us there**. \\n- We love the results. But if you don\\'t love the pain, you don\\'t really want it.\\n- Quitting doesn\\'t automatically make you a quitter. It is likely that you chose something that you don\\'t want to struggle for. Note: quotes below\\n\\n**Highlights**\\n- Examples how pain shows who you\\'ll become\\n\\t- Fit people appreciate the pain and physical stress on the gym\\n\\t- Entrepreneurs appreciate the risk, the uncertainty, the repeated failures, the *insane hours devoted to something that may earn absolutely nothing*. Note: I love this description\\n\\t- Good partners appreciate the emotional turbulence.\\n- The more interesting question is the pain. What is the pain that I want to sustain? That\\'s the hard question that matters, the question that will actually get you somewhere. It\\'s the question that can change the perspective, a life, It\\'s what makes me, me, and you, you. **It\\'s what defines us and separates us and ultimately brings us together**.\\n- The common cultural narratives would tell me that I somehow failed myself, that I\\'m a quitter or a loser, that I just didn\\'t \"have it\", that I gave  up on my dream and that maybe I let myself succumb (ulec) to the pressures of society. But the truth is far less interesting than any of these explanations. The truth is, **I thought I wanted something, but it turns out I didn\\'t. End of story**. Note: Mark told the story how he wanted to be a rock start, but always postponed starting.\\n- Who you are is defined by what you\\'re willing to struggle for.\\n\\n\\n## Chapter 3: You Are Not Special\\n**Actionable Advice**\\n- Accept you are average. Work hard to become great.\\n- You are not exceptional. Don\\'t think you deserve more. Go get it!\\n- You can\\'t have an amazing life without sacrificing anything.\\n\\n**My summary**\\nThis chapter is about exceptionalism. It resonated and gave me so much to think about. Also, Mark writes a lot about entitlement, which I still don\\'t get.\\n\\n**entitlement** - the belief that one is inherently deserving of privileges or special treatment.\\n\\nFrom my head:\\n- **Most people\\'s life for most of the time is average.**\\n- Most people great at one thing, suck at others. They dedicate time and effort to become exceptional, and it comes with costs.\\n- We are flooded with exceptionalism. Nothing average makes it to mass or social media. If we follow them, we only see the best, the worst, the funniest, the scariest.\\n- We assume extraordinary is a new normal. \\n- But because our life is mediocre, we think we are a problem. \"What is wrong with me? Everybody has an exception life!\" No, they don\\'t!\\n- We often hear things like \"You are special, exceptional, etc.\" The missing point here is that - **You are capable of being exceptional. But you are NOT just because you were born.** Too many people believe they are exceptional, so they deserve more. That\\'t **the source of entitlement**.\\n- High sense of entitlement is dangerous. People just want more.\\n- On the contrary, people who accept they are average, but don\\'t want to be like this, work hard to become great. They know they are mediocre, so they have a lot of work to do to change it. **They become extraordinary**.\\n- When you accept your life is average, you\\'ll lift a heavy bag off your back.\\n\\n\\nDay 1 of #30daysWithBooks \\n\\n\"We\\'re all, for the most part, pretty average people. But it\\'s the extremes that get all of the publicity.\" Mark Manson\\n\\nWe are flooded with information. Most of it shows extraordinary feats. To make it to the mass or social media you must be:\\n- the best from the bests\\n- the worst from the worsts\\n- the funniest\\n- the scariest\\n- the most beautiful\\n- the most dangerous\\nThis creates a false impression that everything in the world is exceptional. Everything but your life, which for most of the time is ... mediocre. \\n\\nThis may lead to conclusions... If everything in the world is so exceptional, and my life is so average, I must be the problem. Something is wrong with me!\\n\\nBut here\\'s the truth.\\n\\nExtraordinary isn\\'t a new standard. It\\'s still extraordinary.\\n\\nLife is average. And that\\'s fine!\\n\\nDon\\'t let the mass-media-driven exceptionalism fool you.\\n', metadata={'source': '📚 The Subtle Art of Not Giving a F.ck.md', 'path': '/home/kris/Documents/SmartNotes/SecondBrain/Reference Notes/📚 The Subtle Art of Not Giving a F.ck.md', 'created': 1674190196.9486814, 'last_modified': 1674190196.9486814, 'last_accessed': 1691469705.8816257, '**3 Takeaways': '**', '**2 Quotes': '**', '**1 Change': '**'}),\n",
       "  Document(page_content='# 📚 On Writing Well\\nAuthor: \\nCreated: 2023-01-07 05:09\\nStatus: #book\\nTags: \\nShortform: https://www.shortform.com/app/book/on-writing-well/1-page-summary\\n\\n## Most important Lessons\\n\\n***Lesson1***\\n***Lesson2***\\n***Lesson3***\\n\\n\\n## Favorite Quotes\\n- \\n\\n### [[Three Fundamentals of Good Writing]]\\n- **simplicity**\\n- **clarity**\\n- **identity**\\n\\n## Chapter 1:\\n...\\n\\n\\n---\\n## References\\n1. ', metadata={'source': '📚 On Writing Well.md', 'path': '/home/kris/Documents/SmartNotes/SecondBrain/Reference Notes/📚 On Writing Well.md', 'created': 1673064885.5566769, 'last_modified': 1673064885.5566769, 'last_accessed': 1691477989.204023}),\n",
       "  Document(page_content='# 📚 Atomic Habits\\nAuthor: [[James Clear]]\\nCreated: 2022-01-28 11:23\\nStatus: #book\\nTags: [[Productivity]] [[Habits]]\\n\\nGenius Link: https://geni.us/ePeW7, [Atomic Habits](https://geni.us/ePeW7)\\n\\natomic\\n1. an extremely small amount of a thing; the single irreducible unit of a larger system\\n2. the source of immense energy or power\\n\\n\\nhabit\\n1. a routine or practice performed regularly; an automatic response to a specific situation\\n\\n## Most Important Lessons\\n\\n**Tiny changes lead to Huge Results**\\n\\n***Habits are a double-edged sword. Good Habits make time your ally. Bad Habits make time your enemy**\\n\\n**Apply 4 Laws of Behavior Change**\\n- **To build a good habit, make it obvious, attractive, easy, satisfying**\\n- **To break a habit, make it invisible, unattractive, difficult, unsatisfying**\\n\\n**You don\\'t rise to the level of your goals. You fall to the level of your systems.**\\n\\n### Quotes\\n\\n\"Your identity emerges out of your habits. Every action is a vote for the type of person you wish to become.\"\\n\\n\\n## Part 1: The Fundamentals\\n### Why Tiny Changes Make a Big Difference\\n\\n## Chapter 1: The Surprising Power of Atomic Habits (p 13)\\n\\n## Why Small Habits Make a Big Difference (p 15)\\n\\nSmall Habits, Big Impact\\n\\n - it\\'s easy to overestimate the impact of a single event\\n - it\\'s even easier to underestimate the impact of making small improvements on a daily basis\\n - habits are compound interests of self-improvement\\n - habits are a double-edged sword. Tiny, bad habits also compound\\n\\n\\n## 1% Better Every Day\\n![[OnePercentForAYear.jpg]]\\n\\nHabits\\n - Your outcomes are lagging measures of your habits\\n - You should be more concerned about the trajectory than about your current results\\n\\n\\nGood Habits\\n - Make time your ally\\n - Success is a product of daily habits\\n\\n\\nPositive Compounding\\n - Productivity\\n - Knowledge\\n - Relationships\\n\\n\\nBad Habits\\n - Make time your enemy\\n - Slow transformation of bad actions make them easy to slide\\n\\nNegative Compounding\\n - Stress\\n - Negative Thoughts\\n - Outrage\\n\\n\\n\\n## What Progress is Really Like\\n![[The-Plateau-of-Latent-Potential-1.png]]\\n\\nAbout Progress\\n - the most powerful outcomes are delayed\\n - mastery requires patience\\n\\n\\n## Forget About Goals, Focus on Systems Instead (p 23)\\n\\n[[Goals vs Systems]]\\n\\nJames Clear\\n**\"You do not rise to the level of your goals. You fall to the level of your systems\"**\\n\\nSystems that we follow are the crucial component that indicates if we are going to achieve what we want\\n\\nGoals vs Systems\\n - Goals are about results we want to achieve\\n - Systems are processes that help us achieve goals\\n\\n\\nProblems of Goal-first Mindset\\n\\n1. Winners and losers have the same goals\\n2. Achieving a goal is only a momentary change\\n3. Goals restrict your happiness\\n4. Goals are a odds with long-term progress\\n[[Problems of Goal-first Mindset]]\\n\\n\\n# Chapter 3: How to Create a Good Habit in 4 Simple Steps (p 43)\\n\\nChapter Summary\\n- Habits are behaviors repeated so many times that they became automatic\\n- Habits consist of four stages: Cue, Craving, Response, Reward\\n- Habits allow us to perform tasks with as little energy as possible\\n\\n\\nFour Stages of Habit\\n1. Cue\\n2. Craving\\n3. Response\\n4. Reward\\n\\n\\n### A habit loop\\n\\n![[HabitLoop.jpg]]\\n\\n\\nEach Habit consists of 4 stages\\n\\nFour Laws for Creating a GOOD Habit\\n1. Make it **Obvious** (Cue)\\n2. Make it **Attractive** (Craving)\\n3. Make it **Easy** (Response)\\n4. Make it **Satisfying** (Reward)\\n\\n\\nFour Laws for Breaking a BAD Habit\\n1. Make it **Invisible** (Cue)\\n2. Make it **Unattractive** (Craving)\\n3. Make it **Difficult** (Response)\\n4. Make it **Unsatisfying** (Reward)\\n\\n\\n# The 1st Law: Make it Obvious\\n# Chapter 4: The Man Who Didn\\'t Look Right (p 59)\\n\\nChapter Summary\\n- Our Brain performs actions without consciously thinking about it\\n- Once a habit becomes automatic, we don\\'t pay attention to what we\\'re doing\\n- We need to be aware of our habits in order to change them\\n- Pointing-and-Calling raises our awareness of a nonconscious habit\\n- The Habits Scorecard also helps to become more aware of behaviors\\n\\n\\n\"Until you make the unconscious conscious, it will direct your life and you will call it fate.\" [[Carl Jung]]\\n\\n\\nPointing-and-Calling:\\n - a safety system designed to reduce mistakes\\n - involves using ears, eyes, hands, and mouth\\n\\n\\nThe Habits Scorecard is a simple exercise to become more aware of your behavior. How to create your own?\\n1. Create a list of your daily habits\\n2. Look at each behavior and ask yourself: Is it a good, a bad, or a neutral habit?\\n3. If you don\\'t know how to score a habit, ask yourself: \"Does this behavior help me become the type of person I wish to be? Does this habit cast a vote for or against my desired identity?\"\\n4. Notice when you\\'re making a habit. Don\\'t blame yourself for your faults. Don\\'t praise yourself for the successes. Simply observe.\\n5. To make it even more obvious, try Pointing-and-Calling\\n\\n\\n# Chapter 5: The Best Way to Start a New Habit (p. 69)\\n\\nTwo efficient strategies to start a new habit\\n1. Implementation Intention: [[Implementation Intention]]\\n2. Habit Stacking: [[Habit Stacking]]\\n\\n\\n# Chapter 6: Motivation is Overrated; Environment Often Matters More (p. 81)\\n\\nChapter Summary\\n- Environment shapes human behavior\\n- You can design your environment to become more productive\\n- Our behaviors is not defined by the objects in the environment but by our relationship to them. E.g. Sofa may be a place where someone reads books or watches TV\\n- One space, one use. Avoid mixing the context of one habit with another\\n- If you want to break bad habits, you should change or reorganize your environment\\n\\n[[Designing Environment for Success]]\\n\\n\\n# Chapter 7: The Secret to Self-Control (p. 91)\\n\\nChapter Summary\\n- People with strong self-control are the ones who don\\'t use willpower of self-control that often. They avoid tempting situations\\n- Bad Habits are autocatalytic!! They feed themselves.\\n- Bad Habits may be broken, but unlikely forgotten\\n\\nTip for Breaking a Bad Habit\\n- Cut Bad Habits Off at the source\\n- Make Bad Habits Invisible\\n- Spend energy to optimize your environment\\n- Remove temptations\\n- Don\\'t rely on your self-control nor willpower\\n\\n\\n# The 2nd Law: Make it Attractive\\n\\n# Chapter 8: How to Make a Habit Irresistible (p 101)\\n**Chapter Summary**\\n- Habits are Dopamine-Driven Feedback Loops\\n- Dopamine Spike takes place when we crave something\\n- The anticipation of an experience often gives more pleasure than the act\\n- Desire drives our Behaviors\\n- Nowadays we are constantly exposed to the Supernormal Stimuli [[Supernormal Stimuli]]\\n- [[Temptation Bundling]] is one of the most efficient strategies of making a habit attractive\\n[[Liking vs Wanting]]\\n\\n\\n[[Dopamine]]\\n- For years we assumed Dopamine was responsible for pleasure\\n- Plays a central role in neurological processes\\n- Influences our **motivation, learning, memory, punishment, aversion**\\n- The higher the dopamine level, the higher the motivation to act\\n\\n\\n# Chapter 9: The Role of Family and Friends in Shaping Your Habits (p 113)\\n\\n\\n**Chapter Summary**\\n- People have very strong **desire to belong**.\\n- At a young age, we don\\'t choose habits but imitate them.\\n- The culture we grow up in determines what\\'s attractive to us.\\n- We imitate behaviors of 3 social groups: The Close, The Many, The Powerful.\\n\\n\\n\"Most days, we\\'d rather be wrong with the crowd than be right by ourselves.\" [[James Clear]] #quote \\n\\n\"The normal behavior of the tribe often overpowers the desired behavior of an individual.\" [[James Clear]] #quote \\n\\n**Three Groups That We Imitate**\\n - **The Close** - Family and Friends - We pick up habits from people we spend the most time with. \\n \\n - **The Many** - The Tribe - We want to belong to the tribe. We\\'d rather be wrong together than right alone. **Challenging the tribe makes a change very unattractive**\\n \\n - **The Powerful** - People with status and prestige - Once we fit in, we look for the ways to stand out. We try to imitate behaviors of successful people. We find approval, respect, and praise attractive\\n\\n**Tips on How to Create Good Habits**\\n- One of the most effective ways to build better habits is to join a group where our desired behavior is the normal behavior, eg join a group of runners.\\n- Even better if we join a group we already have something in common with. Eg there was this idea of Nerd Fitness. New members joining fitness feel that they belong to a group because they share interests. It doesn\\'t feel weird to be among fit people anymore.\\n- It is so powerful because we experience **the Shared Identity**. It reinforces our personal identity. Habits last longer.\\n![[SharedIdentity.jpg]]\\n\\n# Chapter 10: How to Find and Fix the Causes of Your Bad Habits (p 125)\\n**Chapter Summary**\\n- To break a bad Habit we have to make it unattractive\\n- Craving is only a surface level behavior. Deep down there is always an underlying motive. [[List of underlying motives]]\\n- Craving is a desire to change. When there is a gap between how we\\'re currently feeling and how we want to feel, we take action. Or at least we\\'ve got a reason to act\\n- We can\\'t really control our cravings. However, we can control our response to them. Some people meditate or go for a walk when they are stressed. Other people smoke, eat junk-food, or watch social media. \\n\\n\\n**Current state vs. desired state**\\nJames writes a lot about the feelings and emotions in this chapter. He says, we are always in some **state**. It\\'s how we are currently feeling. If we want to feel differently, we get a reason to act.\\n\\n\"Your habits are modern-day solutions to ancient desires.\" [[James Clear]] #quote \\n\\n\\n**How to enjoy Hard Habits?**\\n - Associate Hard Habits with a **positive experience**. Add an enjoyable ritual\\n - **Highlight the benefits** rather than drawbacks\\n - Change your language. Replace \"I have to\" with \"**I get to!**\"\\n\\nMy positive language\\nI **get to** wake up early to learn things that interest me\\nI **get to** read books and write about them\\n\\n\\n# The 3rd Law: Make it Easy\\n# Chapter 11: Walk Slowly, but Never Backwards\\n**Chapter Summary**\\n- Action vs Motion. [[Action and Motion]]\\n- Quality vs Quantity story.\\n- Habits form based on repetitions, not time. \"How long does it take to form a habit?\" is the wrong question. \"How many repetitions is required to make a habit automatic?\" is the correct one.\\n\\n\\n*The best is the enemy of the good.* Voltaire #quote \\n\"All habits follow a similar trajectory form effortful practice to automatic behavior, a process known as *automaticity.*\"\\n\\n**Action**\\n- Practice\\n- Leads to actual results\\n- Produces outcome\\n\\n**Action Examples**\\n- Having a healthy meal\\n- Going to the gym, running\\n- Actually working on a project\\n- Writing\\n\\n\\n**Motion**\\n- Preparation\\n- Never produces any outcome.\\n- Allows us to delay failure.\\n- Often becomes an act of procrastination.\\n- Fools us, that we got something done.\\n- Sometimes important, especially when we start a project, lack knowledge or experience, need more connections.\\n\\n\\n**Motion Examples**\\n- Planning a perfect diet\\n- Talking to a personal coach\\n- Planning, brainstorming\\n- Reading\\n\\n![[ActionVsMotion.jpg]]\\n\\n# Chapter 12: The Law of Least Effort\\n**Chapter Summary**\\n- we are energy-efficient creatures. Saving energy is one of our underlying motives. [[List of underlying motives]]\\n- whenever given a choice, we\\'ll take an easier path.\\n- many bad habits, such as scrolling on social media or watching television, are extremely convenient.\\n- To build a new habit, we should make it easy at the beginning. It doesn\\'t mean we shouldn\\'t do hard things. We should make things as easy as possible in the moment with a long-term payoff in mind.\\n- Your environment matters. Even tiny friction may decide if you stick to a habit or not. Optimize your environment so starting a behavior feels natural.\\n\\n### The Law of Least Effort\\nWhenever we decide between two similar options, our brain naturally leans towards the one requiring less work.\\n\\n# Chapter 13: How to Stop Procrastinating by Using The Two-Minute Rule\\nChapter Summary\\n- the two-minute rule is a great strategy in making a new habit easy\\n- consistency is crucial because it shapes our identity and makes habits automatic\\n- we can\\'t improve habit that doesn\\'t exist\\n- decisive moments take seconds but shapes the next minutes or even hours\\n- pre-habit rituals can combine the two-minute rule with a decisive moment. They are easy and put us in the mood of performing a habit.\\n\\n\\n### The Two-Minute Rule\\nWhen we start a new habit it shouldn\\'t take longer than two minutes.\\n\\nBenefits of the Two-Minute Rule\\n- a new habit is more likely to perform,\\n- a new habit doesn\\'t feel like a challenge and it shouldn\\'t\\n- it\\'s the habit of showing up. Consistency is more important than building a perfect habit from the beginning.\\n- it shapes our identity\\n\\n### Decisive Moments\\nChoices that influence the actions to follow. They shape the next minutes or even hours.\\n\\n![[DecisiveMoments.jpg]]\\n\\n# Chapter 14: How to Make Good Habits Inevitable and Bad Habits Impossible\\n\\nChapter Summary\\n-   The inversion of the 3rd Law of Behavior Change is **make it difficult**,\\n-   to be successful, not only do we need to build good habits but also avoid the bad ones,\\n-   a **commitment device** directs our future actions on the right path,\\n- automation can make good habits inevitable and bad habits impossible,\\n-   if we seldom do something, like once a month, we can\\'t create a habit of doing it. Automating such actions, e.g., paying bills is the best solution,\\n-   some one-time actions may improve our quality of life for a long time.\\n#TODO: Image of onetime actions\\n\\n**Commitment Device**\\n-   a choice that you make in the present that locks in (ensures) better behavior in the future.\\n-   Also referred to as\\xa0**Ulysses Pact**\\xa0(contract). In Odyssey, Ulysses asked his comrades (mates) to tie him to the mast. That way, he made sure not to steer their ship towards sirens and destroy it.\\n-   it takes advantage of our good intentions, before we are exposed to temptations.\\n\\n**Automating Habits**\\n- Website blockers\\n- Bill payments\\n- Monthly transfer to saving accounts\\n- Grocery shopping deliver (if you want to cook more and eat out less)\\n\\n## References\\n1. ', metadata={'source': '📚 Atomic Habits.md', 'path': '/home/kris/Documents/SmartNotes/SecondBrain/Reference Notes/📚 Atomic Habits.md', 'created': 1691466984.2847865, 'last_modified': 1691466984.2847865, 'last_accessed': 1691466984.2887862, '# Chapter 2': 'How Your Habits Shape Your Identity (and Vice Versa) (p 29)', '- there are 3 layers of behavior change': 'outcomes change, processes change, identity change'})])"
      ]
     },
     "execution_count": 3,
     "metadata": {},
     "output_type": "execute_result"
    }
   ],
   "source": [
    "len(docs), docs[:5]"
   ]
  },
  {
   "cell_type": "code",
   "execution_count": 4,
   "metadata": {},
   "outputs": [
    {
     "name": "stdout",
     "output_type": "stream",
     "text": [
      "📚 Show Your Work.md\n",
      "📚 Storyworthy.md\n",
      "📚 The Subtle Art of Not Giving a F.ck.md\n",
      "📚 On Writing Well.md\n",
      "📚 Atomic Habits.md\n"
     ]
    }
   ],
   "source": [
    "for doc in docs[:5]:\n",
    "    print(doc.metadata[\"source\"])"
   ]
  },
  {
   "cell_type": "markdown",
   "metadata": {},
   "source": [
    "### Create Vector database\n",
    "\n",
    "Creating the vector database in Chroma."
   ]
  },
  {
   "cell_type": "code",
   "execution_count": 5,
   "metadata": {},
   "outputs": [],
   "source": [
    "from langchain.indexes import VectorstoreIndexCreator\n",
    "\n",
    "index = VectorstoreIndexCreator(\n",
    "    vectorstore_kwargs={\"persist_directory\": \"./chroma/obsidian\"}\n",
    "    ).from_documents(docs)"
   ]
  },
  {
   "cell_type": "markdown",
   "metadata": {},
   "source": [
    "### Querying My Second Brain\n",
    "\n",
    "What happens here?\n",
    "1. Our query gets converted into vector embeddings\n",
    "2. We search through the vector database to find the most similar documents (that potentially include the answer to our query)\n",
    "3. We send our query together with the relevant documents to our Large Language Model.\n",
    "4. LLM send the response - our `answer`"
   ]
  },
  {
   "cell_type": "code",
   "execution_count": 6,
   "metadata": {},
   "outputs": [
    {
     "data": {
      "text/plain": [
       "{'question': 'What are 4 laws of behavior change?',\n",
       " 'answer': ' The four laws of behavior change are: 1. Make it Obvious, 2. Make it Attractive, 3. Make it Easy, and 4. Make it Satisfying.\\n',\n",
       " 'sources': '📚 Atomic Habits.md'}"
      ]
     },
     "execution_count": 6,
     "metadata": {},
     "output_type": "execute_result"
    }
   ],
   "source": [
    "query = \"What are 4 laws of behavior change?\"\n",
    "# expecting Atomic Habits\n",
    "index.query_with_sources(query)"
   ]
  },
  {
   "cell_type": "markdown",
   "metadata": {},
   "source": [
    "#### Helpful Function for showing the results"
   ]
  },
  {
   "cell_type": "code",
   "execution_count": 7,
   "metadata": {},
   "outputs": [],
   "source": [
    "def display_answer(answer):\n",
    "    print(\"Sources: \", answer[\"sources\"], \"\\n\\n\", answer[\"answer\"])"
   ]
  },
  {
   "cell_type": "code",
   "execution_count": 8,
   "metadata": {},
   "outputs": [
    {
     "name": "stdout",
     "output_type": "stream",
     "text": [
      "Sources:  📚 $100M Offers.md \n",
      "\n",
      "  The key takeaways from $100M Offers are:\n",
      "1. Sell your products based on VALUE not PRICE.\n",
      "2. Focus on the value you're providing.\n",
      "3. Create the \"Category of One.\"\n",
      "4. Sell in a vacuum.\n",
      "5. Three levers on Success: Market > Offer > Copywriting.\n",
      "\n"
     ]
    }
   ],
   "source": [
    "query = \"Give me 5 key takeaways from $100M Offers\"\n",
    "display_answer(index.query_with_sources(query))"
   ]
  },
  {
   "cell_type": "markdown",
   "metadata": {},
   "source": [
    "Halucinations?"
   ]
  },
  {
   "cell_type": "code",
   "execution_count": 9,
   "metadata": {},
   "outputs": [
    {
     "name": "stdout",
     "output_type": "stream",
     "text": [
      "Sources:  https://www.healthline.com/nutrition/10-brain-foods#section2\n",
      "https://www.webmd.com/diet/features/eat-smart-healthier-brain#1 \n",
      "\n",
      "  Brain foods include foods high in omega-3 fatty acids, foods high in antioxidants, foods high in B vitamins, foods high in vitamin E, foods high in vitamin C, dark chocolate, blueberries, turmeric, green tea, and nuts.\n",
      "\n"
     ]
    }
   ],
   "source": [
    "query = \"What are 10 brain foods?\"\n",
    "display_answer(index.query_with_sources(query))"
   ]
  },
  {
   "cell_type": "markdown",
   "metadata": {},
   "source": [
    "Just wrong..."
   ]
  },
  {
   "cell_type": "code",
   "execution_count": 10,
   "metadata": {},
   "outputs": [
    {
     "name": "stdout",
     "output_type": "stream",
     "text": [
      "Sources:  📚 Limitless.md, 📚 Building a Second Brain.md, 📚 Dopamine Nation.md, 📚 Keep Sharp.md \n",
      "\n",
      "  10 brain foods from Limitless are: exercise, nutrition, sleep, new learning, social interactions, interconectedness, neuroplasticity, FOMO, self-expression, and chasing what excites you.\n",
      "\n"
     ]
    }
   ],
   "source": [
    "query = \"What are 10 brain foods from Limitless?\"\n",
    "display_answer(index.query_with_sources(query))"
   ]
  },
  {
   "cell_type": "code",
   "execution_count": 11,
   "metadata": {},
   "outputs": [
    {
     "name": "stdout",
     "output_type": "stream",
     "text": [
      "Sources:  📚 Keep Sharp.md \n",
      "\n",
      "  The five pillars of a healthy brain are exercise, nutrition, sleep, new learning, and social interactions.\n",
      "\n"
     ]
    }
   ],
   "source": [
    "query = \"What are the pillars of a healthy brain?\"\n",
    "# Expecting Keep Sharp\n",
    "display_answer(index.query_with_sources(query))"
   ]
  },
  {
   "cell_type": "code",
   "execution_count": 12,
   "metadata": {},
   "outputs": [
    {
     "name": "stdout",
     "output_type": "stream",
     "text": [
      "Sources:  📚 The Almanack Of Naval Ravikant.md \n",
      "\n",
      "  According to Naval Ravikant, creating wealth involves finding and building specific knowledge, building or buying equity in a business, and finding a position of leverage.\n",
      "\n"
     ]
    }
   ],
   "source": [
    "query = \"How to create wealth?\"\n",
    "display_answer(index.query_with_sources(query))"
   ]
  },
  {
   "cell_type": "markdown",
   "metadata": {},
   "source": [
    "Simple, \"I don't know.\""
   ]
  },
  {
   "cell_type": "code",
   "execution_count": 13,
   "metadata": {},
   "outputs": [
    {
     "name": "stdout",
     "output_type": "stream",
     "text": [
      "Sources:  📚 The Boron Letters.md, 📚 The Genius In All Of Us.md, 📚 Dopamine Nation.md \n",
      "\n",
      "  Naval Ravikant does not mention raising kids.\n",
      "\n"
     ]
    }
   ],
   "source": [
    "query = \"What does Naval Ravikant say about raising kids?\"\n",
    "display_answer(index.query_with_sources(query))"
   ]
  },
  {
   "cell_type": "code",
   "execution_count": 14,
   "metadata": {},
   "outputs": [
    {
     "name": "stdout",
     "output_type": "stream",
     "text": [
      "Sources:  📚 The Subtle Art of Not Giving a F.ck.md, 📚 The Gap And The Gain.md, 📚 Dopamine Nation.md \n",
      "\n",
      "  Hedonic adaptation is a phenomenon in which you achieve your goal only to feel unfulfilled and wanting more, and is caused by repeated exposure to the same or similar pleasure stimulus. It is also known as tolerance, and can lead to a dopamine deficit state.\n",
      "\n"
     ]
    }
   ],
   "source": [
    "query = \"What is hedonic adaptation?\"\n",
    "display_answer(index.query_with_sources(query))"
   ]
  },
  {
   "cell_type": "code",
   "execution_count": 15,
   "metadata": {},
   "outputs": [
    {
     "name": "stdout",
     "output_type": "stream",
     "text": [
      "Sources:  📚 The Long Game.md, 📚 The Boron Letters.md, 📚 The 10X Rule.md \n",
      "\n",
      "  People are often unsuccessful because they are afraid to set \"unrealistic\" goals, they fear failure, they are met with negativity from friends and family, and they depend on others instead of themselves.\n",
      "\n"
     ]
    }
   ],
   "source": [
    "query = \"Why most people aren't successful?\"\n",
    "display_answer(index.query_with_sources(query))"
   ]
  },
  {
   "cell_type": "code",
   "execution_count": null,
   "metadata": {},
   "outputs": [],
   "source": []
  }
 ],
 "metadata": {
  "kernelspec": {
   "display_name": "langchain",
   "language": "python",
   "name": "python3"
  },
  "language_info": {
   "codemirror_mode": {
    "name": "ipython",
    "version": 3
   },
   "file_extension": ".py",
   "mimetype": "text/x-python",
   "name": "python",
   "nbconvert_exporter": "python",
   "pygments_lexer": "ipython3",
   "version": "3.9.17"
  },
  "orig_nbformat": 4
 },
 "nbformat": 4,
 "nbformat_minor": 2
}
