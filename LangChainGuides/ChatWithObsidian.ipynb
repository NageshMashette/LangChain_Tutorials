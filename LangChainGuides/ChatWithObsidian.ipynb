{
 "cells": [
  {
   "cell_type": "markdown",
   "metadata": {},
   "source": [
    "### Introduction\n",
    "\n",
    "In this notebook, you'll learn how to:\n",
    "- Chat with your second brain\n",
    "- Use LangChain's `ObsidianLoader`\n",
    "- Use LangChain's `VectorstoreIndexCreator`\n"
   ]
  },
  {
   "cell_type": "markdown",
   "metadata": {},
   "source": [
    "#### Installing packages\n",
    "Before we start, you need to have a few Python libraries installed. You can install these libraries by running the following command in your terminal:\n",
    "```bash\n",
    "pip install openai langchain python-dotenv chromadb tiktoken\n",
    "```"
   ]
  },
  {
   "cell_type": "markdown",
   "metadata": {},
   "source": [
    "### Loading API Keys"
   ]
  },
  {
   "cell_type": "code",
   "execution_count": 1,
   "metadata": {},
   "outputs": [
    {
     "data": {
      "text/plain": [
       "True"
      ]
     },
     "execution_count": 1,
     "metadata": {},
     "output_type": "execute_result"
    }
   ],
   "source": [
    "import os\n",
    "from dotenv import load_dotenv\n",
    "\n",
    "# load_dotenv()\n",
    "\n",
    "# Get the absolute path of the current script\n",
    "script_dir = os.path.abspath(os.getcwd())\n",
    "\n",
    "# Get the absolute path of the parent directory\n",
    "parent_dir = os.path.join(script_dir, os.pardir)\n",
    "\n",
    "dotenv_path = os.path.join(parent_dir, '.env')\n",
    "# Load the .env file from the parent directory\n",
    "load_dotenv(dotenv_path)"
   ]
  },
  {
   "cell_type": "markdown",
   "metadata": {},
   "source": [
    "### Loading Notes from Obsidian\n",
    "\n",
    "Just give it a path"
   ]
  },
  {
   "cell_type": "code",
   "execution_count": 2,
   "metadata": {},
   "outputs": [],
   "source": [
    "from langchain.document_loaders import ObsidianLoader\n",
    "\n",
    "loader = ObsidianLoader('/home/kris/Documents/SmartNotes/SecondBrain/Reference Notes/')\n",
    "docs = loader.load()"
   ]
  },
  {
   "cell_type": "code",
   "execution_count": null,
   "metadata": {},
   "outputs": [],
   "source": [
    "len(docs)"
   ]
  },
  {
   "cell_type": "code",
   "execution_count": null,
   "metadata": {},
   "outputs": [],
   "source": [
    "# docs[:5]"
   ]
  },
  {
   "cell_type": "code",
   "execution_count": 4,
   "metadata": {},
   "outputs": [
    {
     "name": "stdout",
     "output_type": "stream",
     "text": [
      "📚 Show Your Work.md\n",
      "📚 Storyworthy.md\n",
      "📚 The Subtle Art of Not Giving a F.ck.md\n",
      "📚 On Writing Well.md\n",
      "📚 Atomic Habits.md\n"
     ]
    }
   ],
   "source": [
    "for doc in docs[:5]:\n",
    "    print(doc.metadata[\"source\"])"
   ]
  },
  {
   "cell_type": "markdown",
   "metadata": {},
   "source": [
    "### Create Vector database\n",
    "\n",
    "Creating the vector database in Chroma."
   ]
  },
  {
   "cell_type": "code",
   "execution_count": 5,
   "metadata": {},
   "outputs": [],
   "source": [
    "from langchain.indexes import VectorstoreIndexCreator\n",
    "\n",
    "index = VectorstoreIndexCreator(\n",
    "    vectorstore_kwargs={\"persist_directory\": \"./chroma/obsidian\"}\n",
    "    ).from_documents(docs)"
   ]
  },
  {
   "cell_type": "markdown",
   "metadata": {},
   "source": [
    "### Querying My Second Brain\n",
    "\n",
    "What happens here?\n",
    "1. Our query gets converted into vector embeddings\n",
    "2. We search through the vector database to find the most similar documents (that potentially include the answer to our query)\n",
    "3. We send our query together with the relevant documents to our Large Language Model.\n",
    "4. LLM send the response - our `answer`"
   ]
  },
  {
   "cell_type": "code",
   "execution_count": 6,
   "metadata": {},
   "outputs": [
    {
     "data": {
      "text/plain": [
       "{'question': 'What are 4 laws of behavior change?',\n",
       " 'answer': ' The four laws of behavior change are: 1. Make it Obvious, 2. Make it Attractive, 3. Make it Easy, and 4. Make it Satisfying.\\n',\n",
       " 'sources': '📚 Atomic Habits.md'}"
      ]
     },
     "execution_count": 6,
     "metadata": {},
     "output_type": "execute_result"
    }
   ],
   "source": [
    "query = \"What are 4 laws of behavior change?\"\n",
    "# expecting Atomic Habits\n",
    "index.query_with_sources(query)"
   ]
  },
  {
   "cell_type": "markdown",
   "metadata": {},
   "source": [
    "#### Helpful Function for showing the results"
   ]
  },
  {
   "cell_type": "code",
   "execution_count": 7,
   "metadata": {},
   "outputs": [],
   "source": [
    "def display_answer(answer):\n",
    "    print(\"Sources: \", answer[\"sources\"], \"\\n\\n\", answer[\"answer\"])"
   ]
  },
  {
   "cell_type": "code",
   "execution_count": 8,
   "metadata": {},
   "outputs": [
    {
     "name": "stdout",
     "output_type": "stream",
     "text": [
      "Sources:  📚 $100M Offers.md \n",
      "\n",
      "  The key takeaways from $100M Offers are:\n",
      "1. Sell your products based on VALUE not PRICE.\n",
      "2. Focus on the value you're providing.\n",
      "3. Create the \"Category of One.\"\n",
      "4. Sell in a vacuum.\n",
      "5. Three levers on Success: Market > Offer > Copywriting.\n",
      "\n"
     ]
    }
   ],
   "source": [
    "query = \"Give me 5 key takeaways from $100M Offers\"\n",
    "display_answer(index.query_with_sources(query))"
   ]
  },
  {
   "cell_type": "markdown",
   "metadata": {},
   "source": [
    "Halucinations?"
   ]
  },
  {
   "cell_type": "code",
   "execution_count": 9,
   "metadata": {},
   "outputs": [
    {
     "name": "stdout",
     "output_type": "stream",
     "text": [
      "Sources:  https://www.healthline.com/nutrition/10-brain-foods#section2\n",
      "https://www.webmd.com/diet/features/eat-smart-healthier-brain#1 \n",
      "\n",
      "  Brain foods include foods high in omega-3 fatty acids, foods high in antioxidants, foods high in B vitamins, foods high in vitamin E, foods high in vitamin C, dark chocolate, blueberries, turmeric, green tea, and nuts.\n",
      "\n"
     ]
    }
   ],
   "source": [
    "query = \"What are 10 brain foods?\"\n",
    "display_answer(index.query_with_sources(query))"
   ]
  },
  {
   "cell_type": "markdown",
   "metadata": {},
   "source": [
    "Just wrong..."
   ]
  },
  {
   "cell_type": "code",
   "execution_count": 10,
   "metadata": {},
   "outputs": [
    {
     "name": "stdout",
     "output_type": "stream",
     "text": [
      "Sources:  📚 Limitless.md, 📚 Building a Second Brain.md, 📚 Dopamine Nation.md, 📚 Keep Sharp.md \n",
      "\n",
      "  10 brain foods from Limitless are: exercise, nutrition, sleep, new learning, social interactions, interconectedness, neuroplasticity, FOMO, self-expression, and chasing what excites you.\n",
      "\n"
     ]
    }
   ],
   "source": [
    "query = \"What are 10 brain foods from Limitless?\"\n",
    "display_answer(index.query_with_sources(query))"
   ]
  },
  {
   "cell_type": "code",
   "execution_count": 11,
   "metadata": {},
   "outputs": [
    {
     "name": "stdout",
     "output_type": "stream",
     "text": [
      "Sources:  📚 Keep Sharp.md \n",
      "\n",
      "  The five pillars of a healthy brain are exercise, nutrition, sleep, new learning, and social interactions.\n",
      "\n"
     ]
    }
   ],
   "source": [
    "query = \"What are the pillars of a healthy brain?\"\n",
    "# Expecting Keep Sharp\n",
    "display_answer(index.query_with_sources(query))"
   ]
  },
  {
   "cell_type": "code",
   "execution_count": 12,
   "metadata": {},
   "outputs": [
    {
     "name": "stdout",
     "output_type": "stream",
     "text": [
      "Sources:  📚 The Almanack Of Naval Ravikant.md \n",
      "\n",
      "  According to Naval Ravikant, creating wealth involves finding and building specific knowledge, building or buying equity in a business, and finding a position of leverage.\n",
      "\n"
     ]
    }
   ],
   "source": [
    "query = \"How to create wealth?\"\n",
    "display_answer(index.query_with_sources(query))"
   ]
  },
  {
   "cell_type": "markdown",
   "metadata": {},
   "source": [
    "Simple, \"I don't know.\""
   ]
  },
  {
   "cell_type": "code",
   "execution_count": 13,
   "metadata": {},
   "outputs": [
    {
     "name": "stdout",
     "output_type": "stream",
     "text": [
      "Sources:  📚 The Boron Letters.md, 📚 The Genius In All Of Us.md, 📚 Dopamine Nation.md \n",
      "\n",
      "  Naval Ravikant does not mention raising kids.\n",
      "\n"
     ]
    }
   ],
   "source": [
    "query = \"What does Naval Ravikant say about raising kids?\"\n",
    "display_answer(index.query_with_sources(query))"
   ]
  },
  {
   "cell_type": "code",
   "execution_count": 14,
   "metadata": {},
   "outputs": [
    {
     "name": "stdout",
     "output_type": "stream",
     "text": [
      "Sources:  📚 The Subtle Art of Not Giving a F.ck.md, 📚 The Gap And The Gain.md, 📚 Dopamine Nation.md \n",
      "\n",
      "  Hedonic adaptation is a phenomenon in which you achieve your goal only to feel unfulfilled and wanting more, and is caused by repeated exposure to the same or similar pleasure stimulus. It is also known as tolerance, and can lead to a dopamine deficit state.\n",
      "\n"
     ]
    }
   ],
   "source": [
    "query = \"What is hedonic adaptation?\"\n",
    "display_answer(index.query_with_sources(query))"
   ]
  },
  {
   "cell_type": "code",
   "execution_count": 15,
   "metadata": {},
   "outputs": [
    {
     "name": "stdout",
     "output_type": "stream",
     "text": [
      "Sources:  📚 The Long Game.md, 📚 The Boron Letters.md, 📚 The 10X Rule.md \n",
      "\n",
      "  People are often unsuccessful because they are afraid to set \"unrealistic\" goals, they fear failure, they are met with negativity from friends and family, and they depend on others instead of themselves.\n",
      "\n"
     ]
    }
   ],
   "source": [
    "query = \"Why most people aren't successful?\"\n",
    "display_answer(index.query_with_sources(query))"
   ]
  },
  {
   "cell_type": "code",
   "execution_count": null,
   "metadata": {},
   "outputs": [],
   "source": []
  }
 ],
 "metadata": {
  "kernelspec": {
   "display_name": "langchain",
   "language": "python",
   "name": "python3"
  },
  "language_info": {
   "codemirror_mode": {
    "name": "ipython",
    "version": 3
   },
   "file_extension": ".py",
   "mimetype": "text/x-python",
   "name": "python",
   "nbconvert_exporter": "python",
   "pygments_lexer": "ipython3",
   "version": "3.9.17"
  },
  "orig_nbformat": 4
 },
 "nbformat": 4,
 "nbformat_minor": 2
}
